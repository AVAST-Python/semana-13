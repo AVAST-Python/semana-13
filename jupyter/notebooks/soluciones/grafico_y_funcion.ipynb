{
 "cells": [
  {
   "cell_type": "markdown",
   "id": "03b07156-afcb-4109-b153-f157d4f96dc4",
   "metadata": {},
   "source": [
    "# Solucion al ejercicio\n",
    "\n",
    "## No lo mires si no has intentado hacerlo primero\n",
    "\n",
    "<br>\n",
    "<br>\n",
    "<br>\n",
    "<br>\n",
    "<br>\n",
    "<br>\n",
    "<br>\n",
    "<br>\n",
    "<br>\n",
    "<br>\n",
    "<br>\n",
    "<br>\n",
    "<br>\n",
    "<br>\n",
    "<br>\n",
    "<br>\n",
    "<br>\n",
    "<br>\n",
    "<br>\n",
    "<br>\n",
    "<br>\n",
    "<br>\n",
    "<br>\n",
    "<br>\n",
    "<br>\n",
    "<br>\n",
    "<br>\n",
    "<br>\n",
    "<br>\n",
    "<br>\n",
    "<br>\n",
    "<br>\n",
    "\n",
    "## ¿Seguro que lo quieres mirar?\n",
    "\n",
    "<br>\n",
    "<br>\n",
    "<br>\n",
    "<br>\n",
    "<br>\n",
    "<br>\n",
    "<br>\n",
    "<br>\n",
    "<br>\n",
    "<br>\n",
    "<br>\n",
    "<br>\n",
    "<br>\n",
    "<br>\n",
    "<br>\n",
    "<br>\n",
    "<br>\n",
    "<br>\n",
    "<br>\n",
    "<br>\n",
    "<br>\n",
    "<br>\n",
    "<br>\n",
    "<br>\n",
    "\n",
    "## OK, aquí está\n"
   ]
  },
  {
   "cell_type": "code",
   "execution_count": 1,
   "id": "957e5d4c-d8ac-43c8-bc2b-5ac2bbf7210b",
   "metadata": {},
   "outputs": [],
   "source": [
    "import matplotlib.pyplot as plt\n",
    "import numpy as np"
   ]
  },
  {
   "cell_type": "code",
   "execution_count": 2,
   "id": "d27f362f-9ecf-443f-9b4f-8f4de4e25091",
   "metadata": {},
   "outputs": [],
   "source": [
    "def distancia_ascensor(A, B):\n",
    "    # Desempaquetar las coordenadas de los puntos A y B\n",
    "    x1, y1 = A\n",
    "    x2, y2 = B\n",
    "\n",
    "    # Si los puntos están en distinta vertical\n",
    "    if x1 != x2 :\n",
    "        # Calcular la distancia vertical desde A hasta el eje X (planta baja)\n",
    "        distancia_vertical_A = abs(y1)\n",
    "        # Calcular la distancia horizontal desde el eje X hasta la vertical del punto B\n",
    "        distancia_horizontal = abs(x2 - x1)\n",
    "        # Calcular la distancia vertical desde la vertical del punto B hasta B\n",
    "        distancia_vertical_B = abs(y2)\n",
    "        # Calcular la distancia total sumando las distancias verticales y horizontales\n",
    "        distancia_total = distancia_vertical_A + distancia_horizontal + distancia_vertical_B\n",
    "\n",
    "    else: # Los puntos están en la misma vertical\n",
    "        distancia_total = abs(y1 - y2)\n",
    "\n",
    "    return distancia_total"
   ]
  },
  {
   "cell_type": "code",
   "execution_count": 3,
   "id": "856ba496-f3b1-4bc8-a464-4ed09d208aa6",
   "metadata": {},
   "outputs": [],
   "source": [
    "def a_distancia(A,B):\n",
    "    return distancia_ascensor(A,B) <= 1"
   ]
  },
  {
   "cell_type": "code",
   "execution_count": 4,
   "id": "f968dffc-19f6-480d-bf32-d1745c3e409c",
   "metadata": {},
   "outputs": [],
   "source": [
    "def puntos_candidatos(punto_central, num_puntos = 10):\n",
    "    x_central, y_central = punto_central\n",
    "    x_min = x_central - 1\n",
    "    x_max = x_central + 1\n",
    "    y_min = y_central - 1\n",
    "    y_max = y_central + 1\n",
    "\n",
    "    puntos_x = np.linspace(x_min, x_max, num_puntos)\n",
    "    puntos_y = np.linspace(y_min, y_max, num_puntos)\n",
    "\n",
    "    candidatos = np.meshgrid(puntos_x, puntos_y)\n",
    "    return np.dstack(candidatos).reshape(-1,2)"
   ]
  },
  {
   "cell_type": "code",
   "execution_count": 5,
   "id": "bc4bd424-1dc0-4899-967b-219bdfa97b24",
   "metadata": {},
   "outputs": [],
   "source": [
    "def grafico_distancia(punto_central, num_puntos = 10):\n",
    "    candidatos = puntos_candidatos(punto_central, num_puntos)\n",
    "    cumple = np.apply_along_axis(lambda row: a_distancia(punto_central, row), axis=1, arr=candidatos)\n",
    "    cumplen = candidatos[cumple]\n",
    "\n",
    "    # Puede que no haya ningún punto a distancia < 1\n",
    "    if cumplen.size > 0:\n",
    "        x, y = zip(*cumplen)\n",
    "        plt.scatter(x, y, color='gray', label='Puntos', s=3)\n",
    "\n",
    "    # Agregar el punto central\n",
    "    x_central, y_central = punto_central\n",
    "    plt.scatter(x_central, y_central, color='red', label='Punto Central')\n",
    "\n",
    "    # Centra el gráfico en 0,0\n",
    "    max_abs = max(max(abs(min(x)), abs(max(x))), max(abs(min(y)), abs(max(y))))\n",
    "    plt.xlim(-max_abs, max_abs)\n",
    "    plt.ylim(-max_abs, max_abs)\n",
    "\n",
    "    # Configuraciones adicionales\n",
    "    plt.xlabel('Coordenada X')\n",
    "    plt.ylabel('Coordenada Y')\n",
    "    plt.title(f'Puntos a distancia ascensor 1 de (x_central, y_central)')\n",
    "    plt.legend()\n",
    "    plt.grid(True)\n",
    "\n",
    "    # Mostrar el gráfico\n",
    "    plt.show()"
   ]
  },
  {
   "cell_type": "code",
   "execution_count": 6,
   "id": "005d8f38-9576-46ac-a3d5-656765d17b7f",
   "metadata": {},
   "outputs": [
    {
     "data": {
      "image/png": "[encoded data removed]",
      "text/plain": [
       "<Figure size 640x480 with 1 Axes>"
      ]
     },
     "metadata": {},
     "output_type": "display_data"
    }
   ],
   "source": [
    "PUNTOS = 100\n",
    "CENTRO = (2, 0.3)\n",
    "grafico_distancia(CENTRO, PUNTOS)"
   ]
  },
  {
   "cell_type": "code",
   "execution_count": null,
   "id": "c8d0e591-5ac9-414f-9402-a99f71202526",
   "metadata": {},
   "outputs": [],
   "source": []
  }
 ],
 "metadata": {
  "kernelspec": {
   "display_name": "Python 3 (ipykernel)",
   "language": "python",
   "name": "python3"
  },
  "language_info": {
   "codemirror_mode": {
    "name": "ipython",
    "version": 3
   },
   "file_extension": ".py",
   "mimetype": "text/x-python",
   "name": "python",
   "nbconvert_exporter": "python",
   "pygments_lexer": "ipython3",
   "version": "3.11.6"
  }
 },
 "nbformat": 4,
 "nbformat_minor": 5
}
